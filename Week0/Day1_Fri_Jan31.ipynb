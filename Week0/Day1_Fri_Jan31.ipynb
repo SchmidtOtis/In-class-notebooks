{
 "cells": [
  {
   "cell_type": "markdown",
   "metadata": {},
   "source": [
    "# Weekly Session 0: Rydberg's Formula <a id='home'></a>\n",
    "## Physics 325\n",
    "### Spring 2020\n",
    "\n",
    "### The goals for today are to practice: \n",
    "  * using a Jupyter Notebook, \n",
    "  * sharing a document with GitHub Classroom\n",
    "  * our main source material today is Ch. 1 of Mark Newman's Computational Physics, and from it, I'd like us all to develop a sense of wonder about the possibilities of the cross-section of physics and numerical computing.\n",
    "  * we'll also have a preview of the following Ch. 2 concepts in coding fundamentals:\n",
    "      \n",
    "        * Variable defintions and types\n",
    "        * Input/Output (I/O) including print() \n",
    "        * Arithmetic and Order of operations\n",
    "        * print() our first Built-in Function\n",
    "        * Comments \n",
    "\n",
    "#### Instructions: \n",
    "\n",
    "1.  Today, I'll run a live demo using my Mac laptop.  We'll see how this goes... ;).  I'll set you free to play around a bit\n",
    "\n",
    "2.  You'll get this notebook via a Moodle link.  You'll download to your computer via. GitHub (but I've put this one on Moodle too just in case).  \n",
    "\n",
    "3.  Complete the following exercises in-line.\n",
    "\n",
    "4.  Once I set you free, switch off between *driver* and *navigator* roles between each exercise.  Thus, if you are typing Python code on the computer for Exercise 1, your partner should be doing the typing on Exercise 2, and so on.  \n",
    "\n",
    "5. At the end of each exercise \n",
    "     * save your changes\n",
    "     * commit your changes (and make a note of what you changed in the \"commit\" boxes) \n",
    "     * push the changes to GitHub (where I can see/grade them).\n",
    "\n",
    "6. You can and should use a whiteboard to enhance your thinking  \n",
    "\n",
    "7. __In the first few weeks, there may be A LOT of new concepts (and software) coming your way all at once.  PLEASE ASK QUESTIONS AS NEEDED !!!!  The more questions you ask, the more I can tune the class to your level.__\n",
    "\n",
    "\n",
    "8.  Don't be shy about copy/paste to recycle bits of code within the document.  Just make sure you understand what pieces you need and how to modify them.\n",
    "\n",
    "9.  At the end of the week, i.e. today, you'll submit the final copy of this notebook via GitHub to be graded."
   ]
  },
  {
   "cell_type": "markdown",
   "metadata": {},
   "source": [
    "## Intro to Rydberg's Formula\n",
    "\n",
    "As Newman writes, the formula is: \n",
    "\\begin{equation}\n",
    "\\frac{1}{\\lambda} = R(\\frac{1}{m^2} - \\frac{1}{n^2})\n",
    "\\end{equation}\n",
    "\n",
    "$R$ is a constant with dimension of inverse length (see below).  To use this equation to calculate a spectral line, set the $m$ value, and then choose a reasonable $n$ value.  To do this, ask yourself, **can a wavelength be negative?**\n",
    "\n",
    "No!\n",
    "\n",
    "The source of all knowledge has a lovely description of the problem solving process Rydberg engaged in to discover this formula:\n",
    "https://en.wikipedia.org/wiki/Rydberg_formula\n",
    "\n",
    "Including an image from Rydberg's notebook\n",
    "![notebook](https://upload.wikimedia.org/wikipedia/commons/8/8d/Rydbergformula.jpg)\n",
    "\n",
    "and an excellent illustration of the spectral lines\n",
    "![lines](https://upload.wikimedia.org/wikipedia/commons/2/2d/HydrogenSpectrum.PNG)\n",
    "\n",
    "source: https://en.wikipedia.org/wiki/Rydberg_formula#/media/File:HydrogenSpectrum.PNG"
   ]
  },
  {
   "cell_type": "markdown",
   "metadata": {},
   "source": [
    "### Exercise 1: Rydberg's Formula (Newman pg 6)\n",
    "\n",
    "Use the \"code\" cells below to run Newman's very first example.  Notice that I defined the constant R separately from the control loops, so you need to run two cells."
   ]
  },
  {
   "cell_type": "code",
   "execution_count": 3,
   "metadata": {},
   "outputs": [],
   "source": [
    "R = 1.097e-2"
   ]
  },
  {
   "cell_type": "code",
   "execution_count": 6,
   "metadata": {},
   "outputs": [
    {
     "name": "stdout",
     "output_type": "stream",
     "text": [
      "Series for m= 1\n",
      "          121.5436037678517 nm\n",
      "          102.55241567912488 nm\n",
      "          97.23488301428137 nm\n",
      "          94.95594044363415 nm\n",
      "          93.76220862091418 nm\n",
      "Series for m= 2\n",
      "          656.3354603463993 nm\n",
      "          486.1744150714068 nm\n",
      "          434.084299170899 nm\n",
      "          410.2096627164995 nm\n",
      "          397.04243897498225 nm\n",
      "Series for m= 3\n",
      "          1875.2441724182836 nm\n",
      "          1281.9051959890612 nm\n",
      "          1093.8924339106654 nm\n",
      "          1005.013673655424 nm\n",
      "          954.6697605038536 nm\n"
     ]
    }
   ],
   "source": [
    "for m in [1,2,3]:\n",
    "    print(\"Series for m=\",m)\n",
    "    \n",
    "    for k in [1,2,3,4,5]:\n",
    "        n = m + k\n",
    "        invlambda = R*(1/m**2 - 1/n**2)\n",
    "        print(\"         \",1/invlambda, \"nm\")"
   ]
  },
  {
   "cell_type": "markdown",
   "metadata": {},
   "source": [
    "## ANSWER HERE\n",
    "### Check that the values calculated by the code qualitatively match those given in the figure above.  What do you need to assume about the figure for it all to work?\n",
    "\n",
    "[your answer here]"
   ]
  },
  {
   "cell_type": "markdown",
   "metadata": {},
   "source": [
    "## Switch Rolls between Driver and Navigator"
   ]
  },
  {
   "cell_type": "markdown",
   "metadata": {},
   "source": [
    "### Exercise 2 Brackett and Pfund Series\n",
    "\n",
    "The Brackett series of lines in the emission spectrum of hydrogen corresponds to transitions from higher excited states to the $m=4$ state.  Likewise the Pfund series corresponds to the $m=5$ state.  Calculate the wavelengths of the the Brackett and Pfund series using the code above to get you started.  "
   ]
  },
  {
   "cell_type": "code",
   "execution_count": 3,
   "metadata": {},
   "outputs": [
    {
     "name": "stdout",
     "output_type": "stream",
     "text": [
      "Series for m = 4\n",
      "     889.343442203793 nm\n",
      "     1009.7468620713834 nm\n",
      "     1099.5021386999508 nm\n",
      "     1166.8185961713764 nm\n",
      "     1217.9420913644522 nm\n",
      "Series for m = 5\n",
      "     1344.9497138245886 nm\n",
      "     1509.029540023159 nm\n",
      "     1638.7901631620455 nm\n",
      "     1741.456115305894 nm\n",
      "     1823.1540565177756 nm\n"
     ]
    }
   ],
   "source": [
    "#your code here (this is a \"comment\" btw)\n",
    "\n",
    "for m in [4,5]:\n",
    "    print(\"Series for m =\",m)\n",
    "    \n",
    "    for k in [1,2,3,4,5]:\n",
    "        n = m + k\n",
    "        invlambda = R*(1/m**2 + 1/n**2)\n",
    "        print(\"    \",1/invlambda, \"nm\")"
   ]
  },
  {
   "cell_type": "markdown",
   "metadata": {},
   "source": [
    "## ANSWER HERE\n",
    "### In which region of the spectrum do the Brackett and Pfund series lie?  Are your answers consistent with the figure above?\n",
    "\n",
    "[your answer here]"
   ]
  },
  {
   "cell_type": "markdown",
   "metadata": {},
   "source": [
    "## DONE EARLY?  I BET SO!  \n",
    "Its time to practice committing your changes back to GitHub and submitting this notebook (for your team) for grading.  "
   ]
  },
  {
   "cell_type": "code",
   "execution_count": null,
   "metadata": {
    "collapsed": true
   },
   "outputs": [],
   "source": []
  }
 ],
 "metadata": {
  "celltoolbar": "Raw Cell Format",
  "kernelspec": {
   "display_name": "Python 3",
   "language": "python",
   "name": "python3"
  },
  "language_info": {
   "codemirror_mode": {
    "name": "ipython",
    "version": 3
   },
   "file_extension": ".py",
   "mimetype": "text/x-python",
   "name": "python",
   "nbconvert_exporter": "python",
   "pygments_lexer": "ipython3",
   "version": "3.7.1"
  }
 },
 "nbformat": 4,
 "nbformat_minor": 1
}
